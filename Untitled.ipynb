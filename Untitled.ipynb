{
 "cells": [
  {
   "cell_type": "code",
   "execution_count": 1,
   "metadata": {},
   "outputs": [
    {
     "name": "stderr",
     "output_type": "stream",
     "text": [
      "/workspace/media/sam/210fe4c4-1b22-4bf7-acd3-e23cbed271e9/home/sam/multi-arm-bandit/main.py:2: UserWarning: \n",
      "This call to matplotlib.use() has no effect because the backend has already\n",
      "been chosen; matplotlib.use() must be called *before* pylab, matplotlib.pyplot,\n",
      "or matplotlib.backends is imported for the first time.\n",
      "\n",
      "The backend was *originally* set to 'module://ipykernel.pylab.backend_inline' by the following code:\n",
      "  File \"/opt/conda/lib/python3.6/runpy.py\", line 193, in _run_module_as_main\n",
      "    \"__main__\", mod_spec)\n",
      "  File \"/opt/conda/lib/python3.6/runpy.py\", line 85, in _run_code\n",
      "    exec(code, run_globals)\n",
      "  File \"/opt/conda/lib/python3.6/site-packages/ipykernel_launcher.py\", line 16, in <module>\n",
      "    app.launch_new_instance()\n",
      "  File \"/opt/conda/lib/python3.6/site-packages/traitlets/config/application.py\", line 658, in launch_instance\n",
      "    app.start()\n",
      "  File \"/opt/conda/lib/python3.6/site-packages/ipykernel/kernelapp.py\", line 478, in start\n",
      "    self.io_loop.start()\n",
      "  File \"/opt/conda/lib/python3.6/site-packages/zmq/eventloop/ioloop.py\", line 177, in start\n",
      "    super(ZMQIOLoop, self).start()\n",
      "  File \"/opt/conda/lib/python3.6/site-packages/tornado/ioloop.py\", line 888, in start\n",
      "    handler_func(fd_obj, events)\n",
      "  File \"/opt/conda/lib/python3.6/site-packages/tornado/stack_context.py\", line 277, in null_wrapper\n",
      "    return fn(*args, **kwargs)\n",
      "  File \"/opt/conda/lib/python3.6/site-packages/zmq/eventloop/zmqstream.py\", line 440, in _handle_events\n",
      "    self._handle_recv()\n",
      "  File \"/opt/conda/lib/python3.6/site-packages/zmq/eventloop/zmqstream.py\", line 472, in _handle_recv\n",
      "    self._run_callback(callback, msg)\n",
      "  File \"/opt/conda/lib/python3.6/site-packages/zmq/eventloop/zmqstream.py\", line 414, in _run_callback\n",
      "    callback(*args, **kwargs)\n",
      "  File \"/opt/conda/lib/python3.6/site-packages/tornado/stack_context.py\", line 277, in null_wrapper\n",
      "    return fn(*args, **kwargs)\n",
      "  File \"/opt/conda/lib/python3.6/site-packages/ipykernel/kernelbase.py\", line 283, in dispatcher\n",
      "    return self.dispatch_shell(stream, msg)\n",
      "  File \"/opt/conda/lib/python3.6/site-packages/ipykernel/kernelbase.py\", line 233, in dispatch_shell\n",
      "    handler(stream, idents, msg)\n",
      "  File \"/opt/conda/lib/python3.6/site-packages/ipykernel/kernelbase.py\", line 399, in execute_request\n",
      "    user_expressions, allow_stdin)\n",
      "  File \"/opt/conda/lib/python3.6/site-packages/ipykernel/ipkernel.py\", line 208, in do_execute\n",
      "    res = shell.run_cell(code, store_history=store_history, silent=silent)\n",
      "  File \"/opt/conda/lib/python3.6/site-packages/ipykernel/zmqshell.py\", line 537, in run_cell\n",
      "    return super(ZMQInteractiveShell, self).run_cell(*args, **kwargs)\n",
      "  File \"/opt/conda/lib/python3.6/site-packages/IPython/core/interactiveshell.py\", line 2728, in run_cell\n",
      "    interactivity=interactivity, compiler=compiler, result=result)\n",
      "  File \"/opt/conda/lib/python3.6/site-packages/IPython/core/interactiveshell.py\", line 2850, in run_ast_nodes\n",
      "    if self.run_code(code, result):\n",
      "  File \"/opt/conda/lib/python3.6/site-packages/IPython/core/interactiveshell.py\", line 2910, in run_code\n",
      "    exec(code_obj, self.user_global_ns, self.user_ns)\n",
      "  File \"<ipython-input-1-b37faaf8e6d8>\", line 6, in <module>\n",
      "    get_ipython().run_line_magic('matplotlib', 'inline')\n",
      "  File \"/opt/conda/lib/python3.6/site-packages/IPython/core/interactiveshell.py\", line 2095, in run_line_magic\n",
      "    result = fn(*args,**kwargs)\n",
      "  File \"<decorator-gen-107>\", line 2, in matplotlib\n",
      "  File \"/opt/conda/lib/python3.6/site-packages/IPython/core/magic.py\", line 187, in <lambda>\n",
      "    call = lambda f, *a, **k: f(*a, **k)\n",
      "  File \"/opt/conda/lib/python3.6/site-packages/IPython/core/magics/pylab.py\", line 99, in matplotlib\n",
      "    gui, backend = self.shell.enable_matplotlib(args.gui)\n",
      "  File \"/opt/conda/lib/python3.6/site-packages/IPython/core/interactiveshell.py\", line 2978, in enable_matplotlib\n",
      "    pt.activate_matplotlib(backend)\n",
      "  File \"/opt/conda/lib/python3.6/site-packages/IPython/core/pylabtools.py\", line 308, in activate_matplotlib\n",
      "    matplotlib.pyplot.switch_backend(backend)\n",
      "  File \"/opt/conda/lib/python3.6/site-packages/matplotlib/pyplot.py\", line 232, in switch_backend\n",
      "    matplotlib.use(newbackend, warn=False, force=True)\n",
      "  File \"/opt/conda/lib/python3.6/site-packages/matplotlib/__init__.py\", line 1305, in use\n",
      "    reload(sys.modules['matplotlib.backends'])\n",
      "  File \"/opt/conda/lib/python3.6/importlib/__init__.py\", line 166, in reload\n",
      "    _bootstrap._exec(spec, module)\n",
      "  File \"/opt/conda/lib/python3.6/site-packages/matplotlib/backends/__init__.py\", line 14, in <module>\n",
      "    line for line in traceback.format_stack()\n",
      "\n",
      "\n",
      "  matplotlib.use('Agg')  # noqa\n"
     ]
    }
   ],
   "source": [
    "import ipyparallel as ipp\n",
    "import numpy as np\n",
    "import pandas as pd\n",
    "import matplotlib\n",
    "import dask\n",
    "%matplotlib inline\n",
    "matplotlib.style.use('ggplot')\n",
    "%config InlineBackend.figure_format = 'retina'\n",
    "from bandits import BernoulliBandit\n",
    "from solvers import Solver, EpsilonGreedy, UCB1, BayesianUCB, ThompsonSampling\n",
    "from main import plot_results, experiment\n",
    "def experiment(K, N, sol):                                                                                                               \n",
    "    \"\"\"                                                                                                                             \n",
    "    Run a small experiment on solving a Bernoulli bandit with K slot machines,                                                      \n",
    "    each with a randomly initialized reward probability.                                                                            \n",
    "                                                                                                                                    \n",
    "    Args:                                                                                                                           \n",
    "        K (int): number of slot machiens.                                                                                           \n",
    "        N (int): number of time steps to try.                                                                                       \n",
    "    \"\"\"                                                                                                                             \n",
    "    \n",
    "    b = BernoulliBandit(K)                                                                                                          \n",
    "    #print('Randomly generated Bernoulli bandit has reward probabilities:\\n', b.probas)                                             \n",
    "    print('The best machine has index: {} and proba: {}'.format(max(range(K), key=lambda i: b.probas[i]), max(b.probas)))           \n",
    "    \n",
    "    if sol == 0:\n",
    "        test_solvers = [ThompsonSampling(b,1,1)]\n",
    "    elif sol == 1:\n",
    "        test_solvers = [BayesianUCB(b,3,1,1)]\n",
    "    elif sol == 2:\n",
    "        test_solvers = [UCB1(b)]\n",
    "    elif sol == 3:\n",
    "        test_solvers = [EpsilonGreedy(b,0.01)]\n",
    "    else:\n",
    "        test_solvers = [EpsilonGreedy(b, 0.01),UCB1(b), BayesianUCB(b, 3, 1, 1),ThompsonSampling(b, 1, 1)]                                                                                                  \n",
    "    \n",
    "    names = [r'$\\epsilon$' + '-Greedy','UCB1','Bayesian UCB','Thompson Sampling']                                                   \n",
    "                                                                                                                                    \n",
    "    for s in test_solvers:                                                                                                          \n",
    "        s.run(N)                                                                                                                    \n",
    "                                                                                                                                     \n",
    "     #plot_results(test_solvers, names, \"results_K{}_N{}.png\".format(K, N))                                                          \n",
    "    #return b, s\n",
    "    return 1\n",
    "    #return s"
   ]
  },
  {
   "cell_type": "code",
   "execution_count": 2,
   "metadata": {},
   "outputs": [],
   "source": [
    "def xp(N):                                                                                                               \n",
    "    \"\"\"                                                                                                                             \n",
    "    Run a small experiment on solving a Bernoulli bandit with K slot machines,                                                      \n",
    "    each with a randomly initialized reward probability.                                                                            \n",
    "                                                                                                                                    \n",
    "    Args:                                                                                                                           \n",
    "        K (int): number of slot machiens.                                                                                           \n",
    "        N (int): number of time steps to try.                                                                                       \n",
    "    \"\"\"                                                                                                                             \n",
    "    K = 1000\n",
    "    sol = 0\n",
    "    b = BernoulliBandit(K)                                                                                                          \n",
    "    #print('Randomly generated Bernoulli bandit has reward probabilities:\\n', b.probas)                                             \n",
    "    print('The best machine has index: {} and proba: {}'.format(max(range(K), key=lambda i: b.probas[i]), max(b.probas)))           \n",
    "    \n",
    "    if sol == 0:\n",
    "        test_solvers = [ThompsonSampling(b,1,1)]\n",
    "    elif sol == 1:\n",
    "        test_solvers = [BayesianUCB(b,3,1,1)]\n",
    "    elif sol == 2:\n",
    "        test_solvers = [UCB1(b)]\n",
    "    elif sol == 3:\n",
    "        test_solvers = [EpsilonGreedy(b,0.01)]\n",
    "    else:\n",
    "        test_solvers = [EpsilonGreedy(b, 0.01),UCB1(b), BayesianUCB(b, 3, 1, 1),ThompsonSampling(b, 1, 1)]                                                                                                  \n",
    "    \n",
    "    names = [r'$\\epsilon$' + '-Greedy','UCB1','Bayesian UCB','Thompson Sampling']                                                   \n",
    "                                                                                                                                    \n",
    "    for s in test_solvers:                                                                                                          \n",
    "        s.run(N)                                                                                                                    \n",
    "                                                                                                                                     \n",
    "     #plot_results(test_solvers, names, \"results_K{}_N{}.png\".format(K, N))                                                          \n",
    "    #return b, s\n",
    "    return b,s\n",
    "    #return s"
   ]
  },
  {
   "cell_type": "code",
   "execution_count": 3,
   "metadata": {},
   "outputs": [
    {
     "name": "stdout",
     "output_type": "stream",
     "text": [
      "Waiting for connection file: ~/.ipython/profile_default/security/ipcontroller-client.json\n"
     ]
    },
    {
     "ename": "OSError",
     "evalue": "Connection file '~/.ipython/profile_default/security/ipcontroller-client.json' not found.\nYou have attempted to connect to an IPython Cluster but no Controller could be found.\nPlease double-check your configuration and ensure that a cluster is running.",
     "output_type": "error",
     "traceback": [
      "\u001b[0;31m---------------------------------------------------------------------------\u001b[0m",
      "\u001b[0;31mOSError\u001b[0m                                   Traceback (most recent call last)",
      "\u001b[0;32m<ipython-input-3-263144ecc2d7>\u001b[0m in \u001b[0;36m<module>\u001b[0;34m()\u001b[0m\n\u001b[0;32m----> 1\u001b[0;31m \u001b[0mipp\u001b[0m\u001b[0;34m.\u001b[0m\u001b[0mClient\u001b[0m\u001b[0;34m(\u001b[0m\u001b[0;34m)\u001b[0m\u001b[0;34m\u001b[0m\u001b[0m\n\u001b[0m",
      "\u001b[0;32m/opt/conda/lib/python3.6/site-packages/ipyparallel/client/client.py\u001b[0m in \u001b[0;36m__init__\u001b[0;34m(self, url_file, profile, profile_dir, ipython_dir, context, debug, sshserver, sshkey, password, paramiko, timeout, cluster_id, **extra_args)\u001b[0m\n\u001b[1;32m    411\u001b[0m                         \u001b[0mno_file_msg\u001b[0m\u001b[0;34m,\u001b[0m\u001b[0;34m\u001b[0m\u001b[0m\n\u001b[1;32m    412\u001b[0m                     ])\n\u001b[0;32m--> 413\u001b[0;31m                     \u001b[0;32mraise\u001b[0m \u001b[0mIOError\u001b[0m\u001b[0;34m(\u001b[0m\u001b[0mmsg\u001b[0m\u001b[0;34m)\u001b[0m\u001b[0;34m\u001b[0m\u001b[0m\n\u001b[0m\u001b[1;32m    414\u001b[0m         \u001b[0;32mif\u001b[0m \u001b[0murl_file\u001b[0m \u001b[0;32mis\u001b[0m \u001b[0;32mNone\u001b[0m\u001b[0;34m:\u001b[0m\u001b[0;34m\u001b[0m\u001b[0m\n\u001b[1;32m    415\u001b[0m             \u001b[0;32mraise\u001b[0m \u001b[0mIOError\u001b[0m\u001b[0;34m(\u001b[0m\u001b[0mno_file_msg\u001b[0m\u001b[0;34m)\u001b[0m\u001b[0;34m\u001b[0m\u001b[0m\n",
      "\u001b[0;31mOSError\u001b[0m: Connection file '~/.ipython/profile_default/security/ipcontroller-client.json' not found.\nYou have attempted to connect to an IPython Cluster but no Controller could be found.\nPlease double-check your configuration and ensure that a cluster is running."
     ]
    }
   ],
   "source": [
    "ipp.Client()"
   ]
  },
  {
   "cell_type": "code",
   "execution_count": 4,
   "metadata": {},
   "outputs": [
    {
     "name": "stderr",
     "output_type": "stream",
     "text": [
      "Exception in thread Thread-4:\n",
      "Traceback (most recent call last):\n",
      "  File \"/opt/conda/lib/python3.6/threading.py\", line 916, in _bootstrap_inner\n",
      "    self.run()\n",
      "  File \"/opt/conda/lib/python3.6/threading.py\", line 864, in run\n",
      "    self._target(*self._args, **self._kwargs)\n",
      "  File \"/opt/conda/lib/python3.6/site-packages/ipyparallel/client/client.py\", line 899, in _io_main\n",
      "    self._io_loop.start()\n",
      "  File \"/opt/conda/lib/python3.6/site-packages/zmq/eventloop/ioloop.py\", line 177, in start\n",
      "    super(ZMQIOLoop, self).start()\n",
      "  File \"/opt/conda/lib/python3.6/site-packages/tornado/ioloop.py\", line 755, in start\n",
      "    raise RuntimeError(\"IOLoop is already running\")\n",
      "RuntimeError: IOLoop is already running\n",
      "\n"
     ]
    }
   ],
   "source": [
    "rc = ipp.Client()"
   ]
  },
  {
   "cell_type": "code",
   "execution_count": null,
   "metadata": {},
   "outputs": [],
   "source": [
    "pool = Pool(processes=100)"
   ]
  },
  {
   "cell_type": "code",
   "execution_count": null,
   "metadata": {},
   "outputs": [],
   "source": [
    "res = pool.map(xp,[100,1000,10000,100000,1000000,100000000])"
   ]
  },
  {
   "cell_type": "code",
   "execution_count": null,
   "metadata": {},
   "outputs": [],
   "source": [
    "res[0][0]"
   ]
  },
  {
   "cell_type": "code",
   "execution_count": null,
   "metadata": {},
   "outputs": [],
   "source": [
    "jobs = []\n",
    "for i in range(5):\n",
    "    p = multiprocessing.Process(target=experiment(10,100,sol=0))\n",
    "    jobs.append(p)\n",
    "    p.start()"
   ]
  }
 ],
 "metadata": {
  "kernelspec": {
   "display_name": "Python 3",
   "language": "python",
   "name": "python3"
  },
  "language_info": {
   "codemirror_mode": {
    "name": "ipython",
    "version": 3
   },
   "file_extension": ".py",
   "mimetype": "text/x-python",
   "name": "python",
   "nbconvert_exporter": "python",
   "pygments_lexer": "ipython3",
   "version": "3.6.4"
  }
 },
 "nbformat": 4,
 "nbformat_minor": 2
}
